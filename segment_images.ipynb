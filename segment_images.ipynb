{
 "cells": [
  {
   "cell_type": "code",
   "execution_count": null,
   "metadata": {},
   "outputs": [],
   "source": [
    "import torch\n",
    "from torchvision import datasets\n",
    "\n",
    "import math\n",
    "import numpy as np\n",
    "import matplotlib.pyplot as plt\n",
    "\n",
    "from rembg import remove, new_session\n",
    "\n",
    "from data.dataset import MaskedDataset"
   ]
  },
  {
   "cell_type": "code",
   "execution_count": null,
   "metadata": {},
   "outputs": [],
   "source": [
    "if torch.backends.mps.is_available():\n",
    "    device = torch.device('mps')\n",
    "elif torch.cuda.is_available():\n",
    "    device = torch.device('cuda')\n",
    "else:\n",
    "    device = torch.device('cpu')\n",
    "\n",
    "print('Running on {}'.format(device))"
   ]
  },
  {
   "cell_type": "code",
   "execution_count": null,
   "metadata": {},
   "outputs": [],
   "source": [
    "seed = 0\n",
    "\n",
    "torch.manual_seed(seed)\n",
    "np.random.seed(seed)\n",
    "\n",
    "generator = torch.Generator()\n",
    "generator.manual_seed(seed)\n",
    "\n",
    "# torch.use_deterministic_algorithms(True)"
   ]
  },
  {
   "cell_type": "code",
   "execution_count": null,
   "metadata": {},
   "outputs": [],
   "source": [
    "batch_size = 100"
   ]
  },
  {
   "cell_type": "markdown",
   "metadata": {},
   "source": [
    "# Load data"
   ]
  },
  {
   "cell_type": "code",
   "execution_count": null,
   "metadata": {},
   "outputs": [],
   "source": [
    "data_main = datasets.STL10(root = \"./data/STL10/\", split = 'unlabeled')"
   ]
  },
  {
   "cell_type": "code",
   "execution_count": null,
   "metadata": {},
   "outputs": [],
   "source": [
    "train_dataset = MaskedDataset(data_main)\n",
    "\n",
    "print(len(train_dataset))"
   ]
  },
  {
   "cell_type": "code",
   "execution_count": null,
   "metadata": {},
   "outputs": [],
   "source": [
    "train_loader = torch.utils.data.DataLoader(\n",
    "    dataset = train_dataset,\n",
    "    batch_size = batch_size,\n",
    "    shuffle = False,\n",
    "    generator = generator\n",
    ")"
   ]
  },
  {
   "cell_type": "markdown",
   "metadata": {},
   "source": [
    "# Rembg"
   ]
  },
  {
   "cell_type": "code",
   "execution_count": null,
   "metadata": {},
   "outputs": [],
   "source": [
    "segment_session = new_session()\n",
    "\n",
    "file_counter = 0\n",
    "for _, full_res, _, _ in train_loader:\n",
    "    predicted_segmentation = []\n",
    "\n",
    "    for i in range(full_res.shape[0]):\n",
    "        segment_mask = remove((full_res[i].permute(1, 2, 0).cpu().numpy() * 255).astype(np.uint8), session=segment_session, only_mask=True, post_process_mask=False)\n",
    "        segment_mask = torch.tensor(segment_mask / 255, dtype=torch.float32)  # device=device\n",
    "\n",
    "        # Heuristic to filter bad masks\n",
    "        # comment the if statement if you want all segmentation masks\n",
    "        # if len(segment_mask[segment_mask >= 0.8]) >= 100:\n",
    "        #     torch.save(segment_mask, './data/STL10_segmentations_filtered/segmentation_{}.pt'.format(file_counter))\n",
    "\n",
    "        torch.save(segment_mask, './data/STL10_segmentations/segmentation_{}.pt'.format(file_counter))\n",
    "        predicted_segmentation.append(segment_mask)\n",
    "        file_counter += 1\n",
    "\n",
    "    if file_counter % 100 == 0:\n",
    "        print(file_counter)\n",
    "\n",
    "    # break\n",
    "\n",
    "predicted_segmentation = torch.stack(predicted_segmentation, axis=0)\n",
    "print(predicted_segmentation.shape)"
   ]
  },
  {
   "cell_type": "code",
   "execution_count": null,
   "metadata": {},
   "outputs": [],
   "source": [
    "fig, axs = plt.subplots(10, 10, layout='constrained', figsize=(20, 20))\n",
    "\n",
    "index = 0\n",
    "\n",
    "for row in range(10):\n",
    "    for col in range(10):\n",
    "        axs[row, col].imshow((full_res[index].permute(1, 2, 0).cpu().numpy() * 255).astype(np.uint8))\n",
    "        axs[row, col].imshow(predicted_segmentation[index].cpu().numpy(), alpha=0.4)  # cmap='hot'\n",
    "        # axs[row, col].imshow(predicted_segmentation[index][0].cpu().detach().numpy(), alpha=0.4)  # cmap='hot'\n",
    "\n",
    "        axs[row, col].get_xaxis().set_visible(False)\n",
    "        axs[row, col].get_yaxis().set_visible(False)\n",
    "        \n",
    "        index += 1"
   ]
  },
  {
   "cell_type": "markdown",
   "metadata": {},
   "source": [
    "## Show insufficient segmentation masks"
   ]
  },
  {
   "cell_type": "code",
   "execution_count": null,
   "metadata": {},
   "outputs": [],
   "source": [
    "insufficient_masks = []\n",
    "insufficient_indices = []\n",
    "\n",
    "for index in range(len(train_dataset)):\n",
    "    # all segmentations (unfiltered)\n",
    "    loaded_segmentation = torch.load('./data/STL10_segmentations/segmentation_{}.pt'.format(index), map_location=device)\n",
    "\n",
    "    if len(loaded_segmentation[loaded_segmentation >= 0.8]) <= 100:\n",
    "        insufficient_indices.append(index)\n",
    "        insufficient_masks.append(loaded_segmentation)\n",
    "\n",
    "        print(index)"
   ]
  },
  {
   "cell_type": "code",
   "execution_count": null,
   "metadata": {},
   "outputs": [],
   "source": [
    "print(len(insufficient_indices))"
   ]
  },
  {
   "cell_type": "code",
   "execution_count": null,
   "metadata": {},
   "outputs": [],
   "source": [
    "index = 0\n",
    "\n",
    "for batch in range(math.ceil(len(insufficient_indices) / 100)):\n",
    "    fig, axs = plt.subplots(10, 10, layout='constrained', figsize=(20, 20))\n",
    "\n",
    "    for row in range(10):\n",
    "        for col in range(10):\n",
    "            if index < len(insufficient_indices):\n",
    "                axs[row, col].imshow((train_dataset[insufficient_indices[index]][1].permute(1, 2, 0).cpu().numpy() * 255).astype(np.uint8))\n",
    "                axs[row, col].imshow(insufficient_masks[index].cpu().numpy(), alpha=0.5, cmap='viridis')\n",
    "\n",
    "                axs[row, col].set_title(insufficient_indices[index])\n",
    "\n",
    "                axs[row, col].get_xaxis().set_visible(False)\n",
    "                axs[row, col].get_yaxis().set_visible(False)\n",
    "                \n",
    "                index += 1\n",
    "            else:\n",
    "                break\n",
    "\n",
    "    plt.show()"
   ]
  },
  {
   "cell_type": "code",
   "execution_count": null,
   "metadata": {},
   "outputs": [],
   "source": []
  }
 ],
 "metadata": {
  "kernelspec": {
   "display_name": "PCenv",
   "language": "python",
   "name": "python3"
  },
  "language_info": {
   "codemirror_mode": {
    "name": "ipython",
    "version": 3
   },
   "file_extension": ".py",
   "mimetype": "text/x-python",
   "name": "python",
   "nbconvert_exporter": "python",
   "pygments_lexer": "ipython3",
   "version": "3.9.16"
  }
 },
 "nbformat": 4,
 "nbformat_minor": 2
}
